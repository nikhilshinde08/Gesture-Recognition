{
 "cells": [
  {
   "cell_type": "code",
   "execution_count": null,
   "metadata": {
    "id": "2DRx03jI4cjb"
   },
   "outputs": [],
   "source": []
  },
  {
   "cell_type": "code",
   "execution_count": 2,
   "metadata": {
    "colab": {
     "base_uri": "https://localhost:8080/"
    },
    "id": "TPUTd-7a4jCv",
    "outputId": "1160c750-85a6-4746-ef8a-ac7331ca339d"
   },
   "outputs": [
    {
     "name": "stdout",
     "output_type": "stream",
     "text": [
      "Mounted at /content/drive\n"
     ]
    }
   ],
   "source": [
    "from google.colab import drive\n",
    "drive.mount('/content/drive',force_remount=True)"
   ]
  },
  {
   "cell_type": "code",
   "execution_count": 3,
   "metadata": {
    "id": "h3lw-Yev4jvD"
   },
   "outputs": [],
   "source": [
    "import cv2\n",
    "import matplotlib.pyplot as plt\n"
   ]
  },
  {
   "cell_type": "code",
   "execution_count": 28,
   "metadata": {
    "id": "qmtywd8_wRoN"
   },
   "outputs": [],
   "source": [
    "num_train_sequences = len(train_doc)\n",
    "num_val_sequences=len(val_doc)"
   ]
  },
  {
   "cell_type": "code",
   "execution_count": 4,
   "metadata": {
    "id": "El5y1AVt5gwX"
   },
   "outputs": [],
   "source": [
    "import numpy as np\n",
    "import os\n",
    "from imageio import imread\n",
    "import datetime\n",
    "import os\n",
    "import warnings\n",
    "warnings.filterwarnings(\"ignore\")\n",
    "import abc\n",
    "from sys import getsizeof\n",
    "import tensorflow as tf \n",
    "import cv2\n",
    "import matplotlib.pyplot as plt\n"
   ]
  },
  {
   "cell_type": "code",
   "execution_count": 4,
   "metadata": {
    "id": "ooXXz5iKVH67"
   },
   "outputs": [],
   "source": []
  },
  {
   "cell_type": "code",
   "execution_count": 5,
   "metadata": {
    "id": "uEs_69Os5hzo"
   },
   "outputs": [],
   "source": [
    "np.random.seed(30)\n",
    "import random as rn\n",
    "rn.seed(30)\n",
    "from keras import backend as K\n",
    "import tensorflow as tf\n",
    "tf.random.set_seed(30)"
   ]
  },
  {
   "cell_type": "code",
   "execution_count": 6,
   "metadata": {
    "id": "gQBtYTIeqnSo"
   },
   "outputs": [],
   "source": [
    "#!unzip /content/drive/MyDrive/Project_data.zip -d /content/drive/MyDrive/"
   ]
  },
  {
   "cell_type": "code",
   "execution_count": 7,
   "metadata": {
    "id": "suZkltuk6tXH"
   },
   "outputs": [],
   "source": [
    "train_doc = np.random.permutation(open('/content/drive/MyDrive/Project_data/train.csv').readlines())\n",
    "val_doc = np.random.permutation(open('/content/drive/MyDrive/Project_data/val.csv').readlines())\n",
    "batch_size =10 #experiment with the batch size"
   ]
  },
  {
   "cell_type": "code",
   "execution_count": 8,
   "metadata": {
    "id": "Sgi4VinS7L5H"
   },
   "outputs": [],
   "source": [
    "\n",
    "\n",
    "def generator(source_path, folder_list, batch_size,augment = False):\n",
    "    print( 'Source path = ', source_path, '; batch size =', batch_size)\n",
    "    #create a list of image numbers you want to use for a particular video\n",
    "    img_idx = np.round(np.linspace(0,total_frames-1,frames_to_sample)).astype(int)  \n",
    "    while True:\n",
    "        t = np.random.permutation(folder_list)\n",
    "        # calculate the number of batches\n",
    "        num_batches =  len(t)//batch_size\n",
    "        for batch in range(num_batches): \n",
    "                batch_data, batch_labels= process_batch(source_path,t,batch,batch_size,img_idx)\n",
    "                yield batch_data, batch_labels \n",
    "\n",
    "        remaining_seq=len(t)%batch_size\n",
    "        \n",
    "        if (remaining_seq != 0):\n",
    "                batch_data, batch_labels= process_batch(source_path,t,num_batches,batch_size,img_idx,remaining_seq)\n",
    "                yield batch_data, batch_labels     "
   ]
  },
  {
   "cell_type": "code",
   "execution_count": 10,
   "metadata": {
    "id": "syVM4ArjV23P"
   },
   "outputs": [],
   "source": [
    "def process_batch(source_path,t,batch,batch_size,img_idx,remaining_seq=0):\n",
    "    \n",
    "        seq_len = remaining_seq if remaining_seq else batch_size\n",
    "    \n",
    "        batch_data = np.zeros((seq_len,len(img_idx),image_height,image_width,channels)) \n",
    "        batch_labels = np.zeros((seq_len,num_classes))    \n",
    "        \n",
    "        for folder in range(seq_len): \n",
    "            imgs = os.listdir(source_path+'/'+ t[folder + (batch*batch_size)].split(';')[0]) \n",
    "            for idx,item in enumerate(img_idx):\n",
    "                #performing image reading and resizing\n",
    "                image = imread(source_path+'/'+ t[folder + (batch*batch_size)].strip().split(';')[0]+'/'+imgs[item]).astype(np.float32)\n",
    "                #crop the images and resize them. Note that the images are of 2 different shape \n",
    "                #and the conv3D will throw error if the inputs in a batch have different shapes\n",
    "                size=(image_height,image_width)\n",
    "                image_resized=cv2.resize(image, size)          \n",
    "                batch_data[folder,idx,:,:,0] =(image_resized[:,:,0])/255\n",
    "                batch_data[folder,idx,:,:,1] = (image_resized[:,:,1])/255\n",
    "                batch_data[folder,idx,:,:,2] = (image_resized[:,:,2])/255            \n",
    "            batch_labels[folder, int(t[folder + (batch*batch_size)].strip().split(';')[2])] = 1          \n",
    "        return(batch_data,batch_labels)"
   ]
  },
  {
   "cell_type": "code",
   "execution_count": 11,
   "metadata": {
    "id": "RLZdU4yJzHiU"
   },
   "outputs": [],
   "source": [
    "##Model"
   ]
  },
  {
   "cell_type": "code",
   "execution_count": 12,
   "metadata": {
    "colab": {
     "base_uri": "https://localhost:8080/"
    },
    "id": "4Xr6K15HzaWS",
    "outputId": "061df27e-5c16-4267-8fa2-955d5c250d8c"
   },
   "outputs": [
    {
     "name": "stdout",
     "output_type": "stream",
     "text": [
      "Looking in indexes: https://pypi.org/simple, https://us-python.pkg.dev/colab-wheels/public/simple/\n",
      "Collecting keras-on-lstm\n",
      "  Downloading keras-on-lstm-0.8.0.tar.gz (9.8 kB)\n",
      "Requirement already satisfied: numpy in /usr/local/lib/python3.7/dist-packages (from keras-on-lstm) (1.21.6)\n",
      "Requirement already satisfied: Keras in /usr/local/lib/python3.7/dist-packages (from keras-on-lstm) (2.9.0)\n",
      "Building wheels for collected packages: keras-on-lstm\n",
      "  Building wheel for keras-on-lstm (setup.py) ... \u001b[?25l\u001b[?25hdone\n",
      "  Created wheel for keras-on-lstm: filename=keras_on_lstm-0.8.0-py3-none-any.whl size=10974 sha256=13a318207d1a0d7d8229818e12a6c1bfaa3dd9095a6601cbe728553b76be47b1\n",
      "  Stored in directory: /root/.cache/pip/wheels/ec/74/7b/70f78167943b308f038daf16f742ed249727280b68499412c9\n",
      "Successfully built keras-on-lstm\n",
      "Installing collected packages: keras-on-lstm\n",
      "Successfully installed keras-on-lstm-0.8.0\n"
     ]
    }
   ],
   "source": [
    "!pip install keras-on-lstm"
   ]
  },
  {
   "cell_type": "code",
   "execution_count": 13,
   "metadata": {
    "id": "jDfaDppKzRjS"
   },
   "outputs": [],
   "source": [
    "from keras.models import Sequential, Model\n",
    "from keras.layers import Dropout,Dense, GRU, Flatten, TimeDistributed, Flatten, BatchNormalization, Activation\n",
    "from keras.layers.convolutional import Conv3D, MaxPooling3D, Conv2D, MaxPooling2D\n",
    "from keras.layers import LSTM\n",
    "from keras.callbacks import ModelCheckpoint, ReduceLROnPlateau, EarlyStopping\n",
    "from keras import optimizers\n"
   ]
  },
  {
   "cell_type": "code",
   "execution_count": 14,
   "metadata": {
    "colab": {
     "base_uri": "https://localhost:8080/"
    },
    "id": "tWGAwjQrzXpf",
    "outputId": "ef8609f0-912d-4722-85b6-d920fb0efbbc"
   },
   "outputs": [
    {
     "name": "stdout",
     "output_type": "stream",
     "text": [
      "No of Epochs = 30\n"
     ]
    }
   ],
   "source": [
    "# Setting image properties \n",
    "image_height=160\n",
    "image_width=160\n",
    "channels=3\n",
    "num_classes=5\n",
    "total_frames=30\n",
    "frames_to_sample=20\n",
    "batch_size=40\n",
    "num_epochs=30 #getting it to 30 epochs because of 30 photo frames\n",
    "dense_neurons=64\n",
    "dropout=0.25\n",
    "filtersize=(3,3,3)\n",
    "print ('No of Epochs =', num_epochs)"
   ]
  },
  {
   "cell_type": "code",
   "execution_count": 20,
   "metadata": {
    "id": "wa4TlK4ez6_E"
   },
   "outputs": [],
   "source": [
    "model = Sequential()\n",
    "#layer1\n",
    "model.add(Conv3D(16, (3, 3, 3), padding='same',\n",
    "input_shape=(frames_to_sample,image_height,image_width,channels)))\n",
    "model.add(Activation('relu'))\n",
    "model.add(BatchNormalization())\n",
    "model.add(MaxPooling3D(pool_size=(2, 2, 2)))\n",
    "\n",
    "#layer2\n",
    "model.add(Conv3D(32, (2, 2, 2), padding='same'))\n",
    "model.add(Activation('relu'))\n",
    "model.add(BatchNormalization())\n",
    "model.add(MaxPooling3D(pool_size=(2, 2, 2)))\n",
    "\n",
    "\n",
    "#layer3\n",
    "model.add(Conv3D(64, (2, 2, 2), padding='same'))\n",
    "model.add(Activation('relu'))\n",
    "model.add(BatchNormalization())\n",
    "model.add(MaxPooling3D(pool_size=(2, 2, 2)))\n",
    "\n",
    "#layer4\n",
    "model.add(Conv3D(128, (2, 2, 2), padding='same'))\n",
    "model.add(Activation('relu'))\n",
    "model.add(BatchNormalization())\n",
    "model.add(MaxPooling3D(pool_size=(2, 2, 2)))\n",
    "\n",
    "#Flatten\n",
    "model.add(Flatten())\n",
    "model.add(Dense(128,activation='relu'))\n",
    "model.add(BatchNormalization())\n",
    "model.add(Dropout(0.5))\n",
    "\n",
    "model.add(Dense(64,activation='relu'))\n",
    "model.add(BatchNormalization())\n",
    "model.add(Dropout(0.25))\n",
    "\n",
    "\n",
    "model.add(Dense(num_classes,activation='tanh'))\n",
    "\n",
    "optimiser = 'adam'\n",
    "model.compile(optimizer=optimiser, loss='categorical_crossentropy', metrics=['categorical_accuracy'])"
   ]
  },
  {
   "cell_type": "code",
   "execution_count": 20,
   "metadata": {
    "id": "f8LX1dkNfcRB"
   },
   "outputs": [],
   "source": []
  },
  {
   "cell_type": "code",
   "execution_count": 21,
   "metadata": {
    "colab": {
     "base_uri": "https://localhost:8080/"
    },
    "id": "BGeOZ1F80Co0",
    "outputId": "e1aecccf-8daa-4d60-def9-d3555b8f36f3"
   },
   "outputs": [
    {
     "name": "stdout",
     "output_type": "stream",
     "text": [
      "Model: \"sequential\"\n",
      "_________________________________________________________________\n",
      " Layer (type)                Output Shape              Param #   \n",
      "=================================================================\n",
      " conv3d (Conv3D)             (None, 20, 160, 160, 16)  1312      \n",
      "                                                                 \n",
      " activation (Activation)     (None, 20, 160, 160, 16)  0         \n",
      "                                                                 \n",
      " batch_normalization (BatchN  (None, 20, 160, 160, 16)  64       \n",
      " ormalization)                                                   \n",
      "                                                                 \n",
      " max_pooling3d (MaxPooling3D  (None, 10, 80, 80, 16)   0         \n",
      " )                                                               \n",
      "                                                                 \n",
      " conv3d_1 (Conv3D)           (None, 10, 80, 80, 32)    4128      \n",
      "                                                                 \n",
      " activation_1 (Activation)   (None, 10, 80, 80, 32)    0         \n",
      "                                                                 \n",
      " batch_normalization_1 (Batc  (None, 10, 80, 80, 32)   128       \n",
      " hNormalization)                                                 \n",
      "                                                                 \n",
      " max_pooling3d_1 (MaxPooling  (None, 5, 40, 40, 32)    0         \n",
      " 3D)                                                             \n",
      "                                                                 \n",
      " conv3d_2 (Conv3D)           (None, 5, 40, 40, 64)     16448     \n",
      "                                                                 \n",
      " activation_2 (Activation)   (None, 5, 40, 40, 64)     0         \n",
      "                                                                 \n",
      " batch_normalization_2 (Batc  (None, 5, 40, 40, 64)    256       \n",
      " hNormalization)                                                 \n",
      "                                                                 \n",
      " max_pooling3d_2 (MaxPooling  (None, 2, 20, 20, 64)    0         \n",
      " 3D)                                                             \n",
      "                                                                 \n",
      " conv3d_3 (Conv3D)           (None, 2, 20, 20, 128)    65664     \n",
      "                                                                 \n",
      " activation_3 (Activation)   (None, 2, 20, 20, 128)    0         \n",
      "                                                                 \n",
      " batch_normalization_3 (Batc  (None, 2, 20, 20, 128)   512       \n",
      " hNormalization)                                                 \n",
      "                                                                 \n",
      " max_pooling3d_3 (MaxPooling  (None, 1, 10, 10, 128)   0         \n",
      " 3D)                                                             \n",
      "                                                                 \n",
      " flatten (Flatten)           (None, 12800)             0         \n",
      "                                                                 \n",
      " dense (Dense)               (None, 128)               1638528   \n",
      "                                                                 \n",
      " batch_normalization_4 (Batc  (None, 128)              512       \n",
      " hNormalization)                                                 \n",
      "                                                                 \n",
      " dropout (Dropout)           (None, 128)               0         \n",
      "                                                                 \n",
      " dense_1 (Dense)             (None, 64)                8256      \n",
      "                                                                 \n",
      " batch_normalization_5 (Batc  (None, 64)               256       \n",
      " hNormalization)                                                 \n",
      "                                                                 \n",
      " dropout_1 (Dropout)         (None, 64)                0         \n",
      "                                                                 \n",
      " dense_2 (Dense)             (None, 5)                 325       \n",
      "                                                                 \n",
      "=================================================================\n",
      "Total params: 1,736,389\n",
      "Trainable params: 1,735,525\n",
      "Non-trainable params: 864\n",
      "_________________________________________________________________\n",
      "None\n"
     ]
    }
   ],
   "source": [
    "print (model.summary())"
   ]
  },
  {
   "cell_type": "code",
   "execution_count": 19,
   "metadata": {
    "id": "Aqhns1U21PpL"
   },
   "outputs": [],
   "source": [
    "train_path='/content/drive/MyDrive/Project_data/train'\n",
    "val_path='/content/drive/MyDrive/Project_data/val'"
   ]
  },
  {
   "cell_type": "code",
   "execution_count": 20,
   "metadata": {
    "id": "H3CO22iV1Cd0"
   },
   "outputs": [],
   "source": [
    "train_generate = generator(train_path, train_doc, batch_size)\n",
    "val_generate= generator(val_path, val_doc, batch_size)"
   ]
  },
  {
   "cell_type": "code",
   "execution_count": 21,
   "metadata": {
    "id": "MFkB5sjM1HCX"
   },
   "outputs": [],
   "source": [
    "curr_dt_time = datetime.datetime.now()"
   ]
  },
  {
   "cell_type": "code",
   "execution_count": 34,
   "metadata": {
    "id": "kCiwo-kAZbDo"
   },
   "outputs": [],
   "source": [
    "model_name = 'model_init' + '_' + str(curr_dt_time).replace(' ','').replace(':','_') + '/'\n",
    "    \n",
    "if not os.path.exists(model_name):\n",
    "    os.mkdir(model_name)\n",
    "        \n",
    "filepath = model_name + 'model-{epoch:01d}-{loss:0.5f}-{categorical_accuracy:0.5f}-{val_loss:.5f}-{val_categorical_accuracy:0.5f}.h5'\n",
    "\n",
    "checkpoint = ModelCheckpoint(filepath, monitor='val_loss', \n",
    "                             verbose=1, save_best_only=False,\n",
    "                             save_weights_only=False, mode='auto', save_frequency=1)\n",
    "\n",
    "LR = ReduceLROnPlateau(monitor='val_loss', factor=0.2, verbose=1, patience=4)\n",
    "callbacks_list = [checkpoint, LR]"
   ]
  },
  {
   "cell_type": "code",
   "execution_count": 35,
   "metadata": {
    "id": "8CWBxjOkas71"
   },
   "outputs": [],
   "source": [
    "num_train_sequences=len(train_doc)\n",
    "num_val_sequences=len(val_doc)\n",
    "if (num_train_sequences%batch_size) == 0:\n",
    "    steps_per_epoch = int(num_train_sequences/batch_size)\n",
    "else:\n",
    "    steps_per_epoch = (num_train_sequences//batch_size) + 1\n",
    "\n",
    "if (num_val_sequences%batch_size) == 0:\n",
    "    validation_steps = int(num_val_sequences/batch_size)\n",
    "else:\n",
    "    validation_steps = (num_val_sequences//batch_size) + 1\n"
   ]
  },
  {
   "cell_type": "code",
   "execution_count": 36,
   "metadata": {
    "colab": {
     "base_uri": "https://localhost:8080/"
    },
    "id": "1-bFym-76_aM",
    "outputId": "aaeb62a4-51ed-489a-da07-6c43de5bf07e"
   },
   "outputs": [
    {
     "data": {
      "text/plain": [
       "17"
      ]
     },
     "execution_count": 36,
     "metadata": {},
     "output_type": "execute_result"
    }
   ],
   "source": [
    "steps_per_epoch"
   ]
  },
  {
   "cell_type": "code",
   "execution_count": 37,
   "metadata": {
    "colab": {
     "base_uri": "https://localhost:8080/"
    },
    "id": "iTAyxdun6lg6",
    "outputId": "4ff93528-ebee-485c-fe1f-13ede8001bb9"
   },
   "outputs": [
    {
     "data": {
      "text/plain": [
       "3"
      ]
     },
     "execution_count": 37,
     "metadata": {},
     "output_type": "execute_result"
    }
   ],
   "source": [
    "validation_steps"
   ]
  },
  {
   "cell_type": "code",
   "execution_count": 38,
   "metadata": {
    "colab": {
     "base_uri": "https://localhost:8080/"
    },
    "id": "BVEgnis3bfQ0",
    "outputId": "f5e2bd29-3d2b-4b4f-e18b-71d68a2f7e93"
   },
   "outputs": [
    {
     "name": "stdout",
     "output_type": "stream",
     "text": [
      "Source path =  /content/drive/MyDrive/Project_data/train ; batch size = 40\n",
      "Epoch 1/30\n",
      "17/17 [==============================] - ETA: 0s - loss: 5.1397 - categorical_accuracy: 0.1493Source path =  /content/drive/MyDrive/Project_data/val ; batch size = 40\n",
      "\n",
      "Epoch 1: saving model to model_init_2022-11-2007_38_08.365774/model-1-5.13969-0.14932-7.25314-0.18000.h5\n",
      "17/17 [==============================] - 95s 5s/step - loss: 5.1397 - categorical_accuracy: 0.1493 - val_loss: 7.2531 - val_categorical_accuracy: 0.1800 - lr: 0.0010\n",
      "Epoch 2/30\n",
      "17/17 [==============================] - ETA: 0s - loss: 4.8741 - categorical_accuracy: 0.2172\n",
      "Epoch 2: saving model to model_init_2022-11-2007_38_08.365774/model-2-4.87414-0.21719-7.49326-0.17000.h5\n",
      "17/17 [==============================] - 78s 5s/step - loss: 4.8741 - categorical_accuracy: 0.2172 - val_loss: 7.4933 - val_categorical_accuracy: 0.1700 - lr: 0.0010\n",
      "Epoch 3/30\n",
      "17/17 [==============================] - ETA: 0s - loss: 5.0013 - categorical_accuracy: 0.2172\n",
      "Epoch 3: saving model to model_init_2022-11-2007_38_08.365774/model-3-5.00129-0.21719-7.25314-0.16000.h5\n",
      "17/17 [==============================] - 79s 5s/step - loss: 5.0013 - categorical_accuracy: 0.2172 - val_loss: 7.2531 - val_categorical_accuracy: 0.1600 - lr: 0.0010\n",
      "Epoch 4/30\n",
      "17/17 [==============================] - ETA: 0s - loss: 4.6663 - categorical_accuracy: 0.1976\n",
      "Epoch 4: saving model to model_init_2022-11-2007_38_08.365774/model-4-4.66631-0.19759-6.73390-0.26000.h5\n",
      "17/17 [==============================] - 78s 5s/step - loss: 4.6663 - categorical_accuracy: 0.1976 - val_loss: 6.7339 - val_categorical_accuracy: 0.2600 - lr: 0.0010\n",
      "Epoch 5/30\n",
      "17/17 [==============================] - ETA: 0s - loss: 4.5474 - categorical_accuracy: 0.1991\n",
      "Epoch 5: saving model to model_init_2022-11-2007_38_08.365774/model-5-4.54737-0.19910-7.42714-0.13000.h5\n",
      "17/17 [==============================] - 75s 5s/step - loss: 4.5474 - categorical_accuracy: 0.1991 - val_loss: 7.4271 - val_categorical_accuracy: 0.1300 - lr: 0.0010\n",
      "Epoch 6/30\n",
      "17/17 [==============================] - ETA: 0s - loss: 5.1269 - categorical_accuracy: 0.1946\n",
      "Epoch 6: saving model to model_init_2022-11-2007_38_08.365774/model-6-5.12692-0.19457-6.93289-0.15000.h5\n",
      "17/17 [==============================] - 78s 5s/step - loss: 5.1269 - categorical_accuracy: 0.1946 - val_loss: 6.9329 - val_categorical_accuracy: 0.1500 - lr: 0.0010\n",
      "Epoch 7/30\n",
      "17/17 [==============================] - ETA: 0s - loss: 4.7251 - categorical_accuracy: 0.2278\n",
      "Epoch 7: saving model to model_init_2022-11-2007_38_08.365774/model-7-4.72512-0.22775-5.28719-0.19000.h5\n",
      "17/17 [==============================] - 76s 5s/step - loss: 4.7251 - categorical_accuracy: 0.2278 - val_loss: 5.2872 - val_categorical_accuracy: 0.1900 - lr: 0.0010\n",
      "Epoch 8/30\n",
      "17/17 [==============================] - ETA: 0s - loss: 4.6805 - categorical_accuracy: 0.2443\n",
      "Epoch 8: saving model to model_init_2022-11-2007_38_08.365774/model-8-4.68055-0.24434-2.67303-0.24000.h5\n",
      "17/17 [==============================] - 77s 5s/step - loss: 4.6805 - categorical_accuracy: 0.2443 - val_loss: 2.6730 - val_categorical_accuracy: 0.2400 - lr: 0.0010\n",
      "Epoch 9/30\n",
      "17/17 [==============================] - ETA: 0s - loss: 4.5972 - categorical_accuracy: 0.2187\n",
      "Epoch 9: saving model to model_init_2022-11-2007_38_08.365774/model-9-4.59721-0.21870-2.31745-0.15000.h5\n",
      "17/17 [==============================] - 76s 5s/step - loss: 4.5972 - categorical_accuracy: 0.2187 - val_loss: 2.3175 - val_categorical_accuracy: 0.1500 - lr: 0.0010\n",
      "Epoch 10/30\n",
      "17/17 [==============================] - ETA: 0s - loss: 4.9386 - categorical_accuracy: 0.2247\n",
      "Epoch 10: saving model to model_init_2022-11-2007_38_08.365774/model-10-4.93857-0.22474-3.58267-0.22000.h5\n",
      "17/17 [==============================] - 75s 5s/step - loss: 4.9386 - categorical_accuracy: 0.2247 - val_loss: 3.5827 - val_categorical_accuracy: 0.2200 - lr: 0.0010\n",
      "Epoch 11/30\n",
      "17/17 [==============================] - ETA: 0s - loss: 4.8214 - categorical_accuracy: 0.2127\n",
      "Epoch 11: saving model to model_init_2022-11-2007_38_08.365774/model-11-4.82145-0.21267-4.17619-0.24000.h5\n",
      "17/17 [==============================] - 75s 5s/step - loss: 4.8214 - categorical_accuracy: 0.2127 - val_loss: 4.1762 - val_categorical_accuracy: 0.2400 - lr: 0.0010\n",
      "Epoch 12/30\n",
      "17/17 [==============================] - ETA: 0s - loss: 4.7393 - categorical_accuracy: 0.1885\n",
      "Epoch 12: saving model to model_init_2022-11-2007_38_08.365774/model-12-4.73929-0.18854-3.93536-0.22000.h5\n",
      "17/17 [==============================] - 70s 4s/step - loss: 4.7393 - categorical_accuracy: 0.1885 - val_loss: 3.9354 - val_categorical_accuracy: 0.2200 - lr: 0.0010\n",
      "Epoch 13/30\n",
      "17/17 [==============================] - ETA: 0s - loss: 4.5737 - categorical_accuracy: 0.2036\n",
      "Epoch 13: saving model to model_init_2022-11-2007_38_08.365774/model-13-4.57367-0.20362-3.55948-0.27000.h5\n",
      "\n",
      "Epoch 13: ReduceLROnPlateau reducing learning rate to 0.00020000000949949026.\n",
      "17/17 [==============================] - 69s 4s/step - loss: 4.5737 - categorical_accuracy: 0.2036 - val_loss: 3.5595 - val_categorical_accuracy: 0.2700 - lr: 0.0010\n",
      "Epoch 14/30\n",
      "17/17 [==============================] - ETA: 0s - loss: 4.4810 - categorical_accuracy: 0.1855\n",
      "Epoch 14: saving model to model_init_2022-11-2007_38_08.365774/model-14-4.48096-0.18552-2.90832-0.20000.h5\n",
      "17/17 [==============================] - 77s 5s/step - loss: 4.4810 - categorical_accuracy: 0.1855 - val_loss: 2.9083 - val_categorical_accuracy: 0.2000 - lr: 2.0000e-04\n",
      "Epoch 15/30\n",
      "17/17 [==============================] - ETA: 0s - loss: 4.4924 - categorical_accuracy: 0.2172\n",
      "Epoch 15: saving model to model_init_2022-11-2007_38_08.365774/model-15-4.49243-0.21719-3.46611-0.20000.h5\n",
      "17/17 [==============================] - 75s 5s/step - loss: 4.4924 - categorical_accuracy: 0.2172 - val_loss: 3.4661 - val_categorical_accuracy: 0.2000 - lr: 2.0000e-04\n",
      "Epoch 16/30\n",
      "17/17 [==============================] - ETA: 0s - loss: 4.4138 - categorical_accuracy: 0.2127\n",
      "Epoch 16: saving model to model_init_2022-11-2007_38_08.365774/model-16-4.41377-0.21267-3.25291-0.22000.h5\n",
      "17/17 [==============================] - 76s 5s/step - loss: 4.4138 - categorical_accuracy: 0.2127 - val_loss: 3.2529 - val_categorical_accuracy: 0.2200 - lr: 2.0000e-04\n",
      "Epoch 17/30\n",
      "17/17 [==============================] - ETA: 0s - loss: 4.5651 - categorical_accuracy: 0.2232\n",
      "Epoch 17: saving model to model_init_2022-11-2007_38_08.365774/model-17-4.56510-0.22323-2.85337-0.23000.h5\n",
      "\n",
      "Epoch 17: ReduceLROnPlateau reducing learning rate to 4.0000001899898055e-05.\n",
      "17/17 [==============================] - 74s 5s/step - loss: 4.5651 - categorical_accuracy: 0.2232 - val_loss: 2.8534 - val_categorical_accuracy: 0.2300 - lr: 2.0000e-04\n",
      "Epoch 18/30\n",
      "17/17 [==============================] - ETA: 0s - loss: 4.1425 - categorical_accuracy: 0.2127\n",
      "Epoch 18: saving model to model_init_2022-11-2007_38_08.365774/model-18-4.14251-0.21267-3.44989-0.22000.h5\n",
      "17/17 [==============================] - 74s 5s/step - loss: 4.1425 - categorical_accuracy: 0.2127 - val_loss: 3.4499 - val_categorical_accuracy: 0.2200 - lr: 4.0000e-05\n",
      "Epoch 19/30\n",
      "17/17 [==============================] - ETA: 0s - loss: 4.1655 - categorical_accuracy: 0.1931\n",
      "Epoch 19: saving model to model_init_2022-11-2007_38_08.365774/model-19-4.16555-0.19306-3.97641-0.22000.h5\n",
      "17/17 [==============================] - 69s 4s/step - loss: 4.1655 - categorical_accuracy: 0.1931 - val_loss: 3.9764 - val_categorical_accuracy: 0.2200 - lr: 4.0000e-05\n",
      "Epoch 20/30\n",
      "17/17 [==============================] - ETA: 0s - loss: 4.3611 - categorical_accuracy: 0.2081\n",
      "Epoch 20: saving model to model_init_2022-11-2007_38_08.365774/model-20-4.36113-0.20814-4.65017-0.16000.h5\n",
      "17/17 [==============================] - 68s 4s/step - loss: 4.3611 - categorical_accuracy: 0.2081 - val_loss: 4.6502 - val_categorical_accuracy: 0.1600 - lr: 4.0000e-05\n",
      "Epoch 21/30\n",
      "17/17 [==============================] - ETA: 0s - loss: 4.7781 - categorical_accuracy: 0.2278\n",
      "Epoch 21: saving model to model_init_2022-11-2007_38_08.365774/model-21-4.77813-0.22775-3.72045-0.28000.h5\n",
      "\n",
      "Epoch 21: ReduceLROnPlateau reducing learning rate to 8.000000525498762e-06.\n",
      "17/17 [==============================] - 67s 4s/step - loss: 4.7781 - categorical_accuracy: 0.2278 - val_loss: 3.7205 - val_categorical_accuracy: 0.2800 - lr: 4.0000e-05\n",
      "Epoch 22/30\n",
      "17/17 [==============================] - ETA: 0s - loss: 4.2020 - categorical_accuracy: 0.2021\n",
      "Epoch 22: saving model to model_init_2022-11-2007_38_08.365774/model-22-4.20203-0.20211-3.27164-0.24000.h5\n",
      "17/17 [==============================] - 75s 5s/step - loss: 4.2020 - categorical_accuracy: 0.2021 - val_loss: 3.2716 - val_categorical_accuracy: 0.2400 - lr: 8.0000e-06\n",
      "Epoch 23/30\n",
      "17/17 [==============================] - ETA: 0s - loss: 4.7873 - categorical_accuracy: 0.2459\n",
      "Epoch 23: saving model to model_init_2022-11-2007_38_08.365774/model-23-4.78732-0.24585-4.14847-0.25000.h5\n",
      "17/17 [==============================] - 69s 4s/step - loss: 4.7873 - categorical_accuracy: 0.2459 - val_loss: 4.1485 - val_categorical_accuracy: 0.2500 - lr: 8.0000e-06\n",
      "Epoch 24/30\n",
      "17/17 [==============================] - ETA: 0s - loss: 4.4274 - categorical_accuracy: 0.2112\n",
      "Epoch 24: saving model to model_init_2022-11-2007_38_08.365774/model-24-4.42737-0.21116-3.49046-0.21000.h5\n",
      "17/17 [==============================] - 67s 4s/step - loss: 4.4274 - categorical_accuracy: 0.2112 - val_loss: 3.4905 - val_categorical_accuracy: 0.2100 - lr: 8.0000e-06\n",
      "Epoch 25/30\n",
      "17/17 [==============================] - ETA: 0s - loss: 4.9049 - categorical_accuracy: 0.2157\n",
      "Epoch 25: saving model to model_init_2022-11-2007_38_08.365774/model-25-4.90491-0.21569-3.86215-0.24000.h5\n",
      "\n",
      "Epoch 25: ReduceLROnPlateau reducing learning rate to 1.6000001778593287e-06.\n",
      "17/17 [==============================] - 70s 4s/step - loss: 4.9049 - categorical_accuracy: 0.2157 - val_loss: 3.8621 - val_categorical_accuracy: 0.2400 - lr: 8.0000e-06\n",
      "Epoch 26/30\n",
      "17/17 [==============================] - ETA: 0s - loss: 4.4214 - categorical_accuracy: 0.2157\n",
      "Epoch 26: saving model to model_init_2022-11-2007_38_08.365774/model-26-4.42135-0.21569-2.93277-0.25000.h5\n",
      "17/17 [==============================] - 74s 5s/step - loss: 4.4214 - categorical_accuracy: 0.2157 - val_loss: 2.9328 - val_categorical_accuracy: 0.2500 - lr: 1.6000e-06\n",
      "Epoch 27/30\n",
      "17/17 [==============================] - ETA: 0s - loss: 4.6668 - categorical_accuracy: 0.2036\n",
      "Epoch 27: saving model to model_init_2022-11-2007_38_08.365774/model-27-4.66681-0.20362-3.97645-0.28000.h5\n",
      "17/17 [==============================] - 67s 4s/step - loss: 4.6668 - categorical_accuracy: 0.2036 - val_loss: 3.9765 - val_categorical_accuracy: 0.2800 - lr: 1.6000e-06\n",
      "Epoch 28/30\n",
      "17/17 [==============================] - ETA: 0s - loss: 4.5528 - categorical_accuracy: 0.2323\n",
      "Epoch 28: saving model to model_init_2022-11-2007_38_08.365774/model-28-4.55276-0.23228-3.85503-0.29000.h5\n",
      "17/17 [==============================] - 70s 4s/step - loss: 4.5528 - categorical_accuracy: 0.2323 - val_loss: 3.8550 - val_categorical_accuracy: 0.2900 - lr: 1.6000e-06\n",
      "Epoch 29/30\n",
      "17/17 [==============================] - ETA: 0s - loss: 4.2168 - categorical_accuracy: 0.2232\n",
      "Epoch 29: saving model to model_init_2022-11-2007_38_08.365774/model-29-4.21679-0.22323-3.07830-0.26000.h5\n",
      "\n",
      "Epoch 29: ReduceLROnPlateau reducing learning rate to 3.200000264769187e-07.\n",
      "17/17 [==============================] - 69s 4s/step - loss: 4.2168 - categorical_accuracy: 0.2232 - val_loss: 3.0783 - val_categorical_accuracy: 0.2600 - lr: 1.6000e-06\n",
      "Epoch 30/30\n",
      "17/17 [==============================] - ETA: 0s - loss: 4.4726 - categorical_accuracy: 0.2036\n",
      "Epoch 30: saving model to model_init_2022-11-2007_38_08.365774/model-30-4.47260-0.20362-3.99197-0.28000.h5\n",
      "17/17 [==============================] - 69s 4s/step - loss: 4.4726 - categorical_accuracy: 0.2036 - val_loss: 3.9920 - val_categorical_accuracy: 0.2800 - lr: 3.2000e-07\n"
     ]
    }
   ],
   "source": [
    "model1 = model.fit(train_generate, steps_per_epoch=17, epochs=num_epochs, verbose=1, \n",
    "                    callbacks=callbacks_list, validation_data=val_generate, \n",
    "                    validation_steps=3,class_weight=None, workers=1, initial_epoch=0)"
   ]
  },
  {
   "cell_type": "code",
   "execution_count": 47,
   "metadata": {
    "id": "rvzIqIy8criF"
   },
   "outputs": [],
   "source": [
    "# function to plot the training/validation accuracies/losses.\n",
    "\n",
    "def plot(history):\n",
    "    fig, axes = plt.subplots(nrows=1, ncols=2, figsize=(15,4))\n",
    "    axes[0].plot(history.history['loss'])   \n",
    "    axes[0].plot(history.history['val_loss'])\n",
    "    axes[0].legend(['loss','val_loss'])\n",
    "\n",
    "    axes[1].plot(history.history['categorical_accuracy'])   \n",
    "    axes[1].plot(history.history['val_categorical_accuracy'])\n",
    "    axes[1].legend(['categorical_accuracy','val_categorical_accuracy'])"
   ]
  },
  {
   "cell_type": "code",
   "execution_count": 48,
   "metadata": {
    "colab": {
     "base_uri": "https://localhost:8080/",
     "height": 265
    },
    "id": "DT0QcBAXfCJp",
    "outputId": "b9da0ccd-0aa9-4386-9982-6db434a6818c"
   },
   "outputs": [
    {
     "data": {
      "image/png": "[encoded data removed]",
      "text/plain": [
       "<Figure size 1080x288 with 2 Axes>"
      ]
     },
     "metadata": {
      "needs_background": "light"
     },
     "output_type": "display_data"
    }
   ],
   "source": [
    "plot(model1)"
   ]
  },
  {
   "cell_type": "code",
   "execution_count": null,
   "metadata": {
    "id": "ZiOLcFAYfJ24"
   },
   "outputs": [],
   "source": [
    "#Model2"
   ]
  },
  {
   "cell_type": "markdown",
   "metadata": {
    "id": "PqknX1NLhakJ"
   },
   "source": [
    "# Model 2\n",
    "image_height=160\n",
    "\n",
    "\n",
    "\n",
    "1. image_width=160\n",
    "2. channels=3\n",
    "3. num_classes=5\n",
    "4. total_frames=30\n",
    "5. frames_to_sample=15\n",
    "6. batch_size=30\n",
    "7. num_epochs=23 #getting it to 30 epochs because of 30 photo \n",
    "* frames\n",
    "* dense_neurons=64\n",
    "* dropout=0.6\n",
    "* filtersize=(2,2,2)\n",
    "\n"
   ]
  },
  {
   "cell_type": "code",
   "execution_count": 60,
   "metadata": {
    "colab": {
     "base_uri": "https://localhost:8080/"
    },
    "id": "w_9Mv_uIfGzB",
    "outputId": "cf1fa35b-bb2f-4c41-f770-00fbf607ebb5"
   },
   "outputs": [
    {
     "name": "stdout",
     "output_type": "stream",
     "text": [
      "Number of epochs = 30\n"
     ]
    }
   ],
   "source": [
    "#image properties \n",
    "image_height=120\n",
    "image_width=120\n",
    "channels=3\n",
    "num_classes=5\n",
    "total_frames=30\n",
    "frames_to_sample=16\n",
    "batch_size=45\n",
    "num_epochs=30\n",
    "dense_neurons=256\n",
    "dropout=0.5\n",
    "filtersize=(2,2,2)\n",
    "print ('Number of epochs =', num_epochs)"
   ]
  },
  {
   "cell_type": "code",
   "execution_count": 60,
   "metadata": {
    "id": "rbxbtWvpiF9B"
   },
   "outputs": [],
   "source": []
  },
  {
   "cell_type": "code",
   "execution_count": 61,
   "metadata": {
    "id": "lV_aMlYTfUc2"
   },
   "outputs": [],
   "source": [
    "model2 = Sequential()\n",
    "model2.add(Conv3D(16, filtersize, padding='same',\n",
    "input_shape=(frames_to_sample,image_height,image_width,channels)))\n",
    "model2.add(Activation('relu'))\n",
    "model2.add(BatchNormalization())\n",
    "model2.add(MaxPooling3D(pool_size=(2, 2, 2)))\n",
    "\n",
    "model2.add(Conv3D(32, filtersize, padding='same'))\n",
    "model2.add(Activation('relu'))\n",
    "model2.add(BatchNormalization())\n",
    "model2.add(MaxPooling3D(pool_size=(2, 2, 2)))\n",
    "\n",
    "model2.add(Conv3D(64, filtersize, padding='same'))\n",
    "model2.add(Activation('relu'))\n",
    "model2.add(BatchNormalization())\n",
    "model2.add(MaxPooling3D(pool_size=(2, 2, 2)))\n",
    "model2.add(Conv3D(128, filtersize, padding='same'))\n",
    "model2.add(Activation('relu'))\n",
    "model2.add(BatchNormalization())\n",
    "model2.add(MaxPooling3D(pool_size=(2, 2, 2)))\n",
    "\n",
    "model2.add(Flatten())\n",
    "model2.add(Dense(dense_neurons,activation='relu'))\n",
    "model2.add(BatchNormalization())\n",
    "model2.add(Dropout(dropout))\n",
    "\n",
    "model2.add(Dense(dense_neurons,activation='relu'))\n",
    "model2.add(BatchNormalization())\n",
    "model2.add(Dropout(dropout))\n",
    "\n",
    "\n",
    "model2.add(Dense(num_classes,activation='softmax'))\n",
    "        \n",
    "optimiser = tf.optimizers.Adam(lr=0.0002)\n",
    "model2.compile(optimizer=optimiser, loss='categorical_crossentropy', metrics=['categorical_accuracy'])"
   ]
  },
  {
   "cell_type": "code",
   "execution_count": 62,
   "metadata": {
    "colab": {
     "base_uri": "https://localhost:8080/"
    },
    "id": "EI3IvU23fdif",
    "outputId": "99319e1a-2779-41d5-d9d1-59e93d8047be"
   },
   "outputs": [
    {
     "name": "stdout",
     "output_type": "stream",
     "text": [
      "Model: \"sequential_8\"\n",
      "_________________________________________________________________\n",
      " Layer (type)                Output Shape              Param #   \n",
      "=================================================================\n",
      " conv3d_32 (Conv3D)          (None, 16, 120, 120, 16)  400       \n",
      "                                                                 \n",
      " activation_32 (Activation)  (None, 16, 120, 120, 16)  0         \n",
      "                                                                 \n",
      " batch_normalization_34 (Bat  (None, 16, 120, 120, 16)  64       \n",
      " chNormalization)                                                \n",
      "                                                                 \n",
      " max_pooling3d_32 (MaxPoolin  (None, 8, 60, 60, 16)    0         \n",
      " g3D)                                                            \n",
      "                                                                 \n",
      " conv3d_33 (Conv3D)          (None, 8, 60, 60, 32)     4128      \n",
      "                                                                 \n",
      " activation_33 (Activation)  (None, 8, 60, 60, 32)     0         \n",
      "                                                                 \n",
      " batch_normalization_35 (Bat  (None, 8, 60, 60, 32)    128       \n",
      " chNormalization)                                                \n",
      "                                                                 \n",
      " max_pooling3d_33 (MaxPoolin  (None, 4, 30, 30, 32)    0         \n",
      " g3D)                                                            \n",
      "                                                                 \n",
      " conv3d_34 (Conv3D)          (None, 4, 30, 30, 64)     16448     \n",
      "                                                                 \n",
      " activation_34 (Activation)  (None, 4, 30, 30, 64)     0         \n",
      "                                                                 \n",
      " batch_normalization_36 (Bat  (None, 4, 30, 30, 64)    256       \n",
      " chNormalization)                                                \n",
      "                                                                 \n",
      " max_pooling3d_34 (MaxPoolin  (None, 2, 15, 15, 64)    0         \n",
      " g3D)                                                            \n",
      "                                                                 \n",
      " conv3d_35 (Conv3D)          (None, 2, 15, 15, 128)    65664     \n",
      "                                                                 \n",
      " activation_35 (Activation)  (None, 2, 15, 15, 128)    0         \n",
      "                                                                 \n",
      " batch_normalization_37 (Bat  (None, 2, 15, 15, 128)   512       \n",
      " chNormalization)                                                \n",
      "                                                                 \n",
      " max_pooling3d_35 (MaxPoolin  (None, 1, 7, 7, 128)     0         \n",
      " g3D)                                                            \n",
      "                                                                 \n",
      " flatten_1 (Flatten)         (None, 6272)              0         \n",
      "                                                                 \n",
      " dense_3 (Dense)             (None, 256)               1605888   \n",
      "                                                                 \n",
      " batch_normalization_38 (Bat  (None, 256)              1024      \n",
      " chNormalization)                                                \n",
      "                                                                 \n",
      " dropout_2 (Dropout)         (None, 256)               0         \n",
      "                                                                 \n",
      " dense_4 (Dense)             (None, 256)               65792     \n",
      "                                                                 \n",
      " batch_normalization_39 (Bat  (None, 256)              1024      \n",
      " chNormalization)                                                \n",
      "                                                                 \n",
      " dropout_3 (Dropout)         (None, 256)               0         \n",
      "                                                                 \n",
      " dense_5 (Dense)             (None, 5)                 1285      \n",
      "                                                                 \n",
      "=================================================================\n",
      "Total params: 1,762,613\n",
      "Trainable params: 1,761,109\n",
      "Non-trainable params: 1,504\n",
      "_________________________________________________________________\n"
     ]
    }
   ],
   "source": [
    "model2.summary()"
   ]
  },
  {
   "cell_type": "code",
   "execution_count": 63,
   "metadata": {
    "id": "0gMsnKfngNnC"
   },
   "outputs": [],
   "source": [
    "\n",
    "model_name = 'model_init' + '_' + str(curr_dt_time).replace(' ','').replace(':','_') + '/'\n",
    "    \n",
    "if not os.path.exists(model_name):\n",
    "    os.mkdir(model_name)\n",
    "        \n",
    "filepath = model_name + 'model-{epoch:01d}-{loss:0.5f}-{categorical_accuracy:0.5f}-{val_loss:.5f}-{val_categorical_accuracy:0.5f}.h5'\n",
    "\n",
    "checkpoint = ModelCheckpoint(filepath, monitor='val_loss', \n",
    "                             verbose=1, save_best_only=False,\n",
    "                             save_weights_only=False, mode='auto', save_frequency=1)\n",
    "\n",
    "LR = ReduceLROnPlateau(monitor='val_loss', factor=0.2, verbose=1, patience=4)\n",
    "callbacks_list = [checkpoint, LR]\n",
    "\n",
    "if (num_train_sequences%batch_size) == 0:\n",
    "    steps_per_epoch = int(num_train_sequences/batch_size)\n",
    "else:\n",
    "    steps_per_epoch = (num_train_sequences//batch_size) + 1\n",
    "\n",
    "if (num_val_sequences%batch_size) == 0:\n",
    "    validation_steps = int(num_val_sequences/batch_size)\n",
    "else:\n",
    "    validation_steps = (num_val_sequences//batch_size) + 1"
   ]
  },
  {
   "cell_type": "code",
   "execution_count": 65,
   "metadata": {
    "colab": {
     "base_uri": "https://localhost:8080/"
    },
    "id": "2_wZ4ioXgfKF",
    "outputId": "afd6fd77-8a51-413b-d5ff-b5ae96a7371c"
   },
   "outputs": [
    {
     "name": "stdout",
     "output_type": "stream",
     "text": [
      "Epoch 1/30\n",
      "15/15 [==============================] - ETA: 0s - loss: 2.3063 - categorical_accuracy: 0.3150\n",
      "Epoch 1: saving model to model_init_2022-11-2007_38_08.365774/model-1-2.30628-0.31500-1.63810-0.21000.h5\n",
      "15/15 [==============================] - 61s 4s/step - loss: 2.3063 - categorical_accuracy: 0.3150 - val_loss: 1.6381 - val_categorical_accuracy: 0.2100 - lr: 2.0000e-04\n",
      "Epoch 2/30\n",
      "15/15 [==============================] - ETA: 0s - loss: 1.4940 - categorical_accuracy: 0.4923\n",
      "Epoch 2: saving model to model_init_2022-11-2007_38_08.365774/model-2-1.49400-0.49228-2.11243-0.24000.h5\n",
      "15/15 [==============================] - 71s 5s/step - loss: 1.4940 - categorical_accuracy: 0.4923 - val_loss: 2.1124 - val_categorical_accuracy: 0.2400 - lr: 2.0000e-04\n",
      "Epoch 3/30\n",
      "15/15 [==============================] - ETA: 0s - loss: 1.0469 - categorical_accuracy: 0.6278\n",
      "Epoch 3: saving model to model_init_2022-11-2007_38_08.365774/model-3-1.04693-0.62779-2.80079-0.22000.h5\n",
      "15/15 [==============================] - 64s 5s/step - loss: 1.0469 - categorical_accuracy: 0.6278 - val_loss: 2.8008 - val_categorical_accuracy: 0.2200 - lr: 2.0000e-04\n",
      "Epoch 4/30\n",
      "15/15 [==============================] - ETA: 0s - loss: 1.0114 - categorical_accuracy: 0.6621\n",
      "Epoch 4: saving model to model_init_2022-11-2007_38_08.365774/model-4-1.01144-0.66209-3.72098-0.21000.h5\n",
      "15/15 [==============================] - 60s 4s/step - loss: 1.0114 - categorical_accuracy: 0.6621 - val_loss: 3.7210 - val_categorical_accuracy: 0.2100 - lr: 2.0000e-04\n",
      "Epoch 5/30\n",
      "15/15 [==============================] - ETA: 0s - loss: 0.8428 - categorical_accuracy: 0.7050\n",
      "Epoch 5: saving model to model_init_2022-11-2007_38_08.365774/model-5-0.84275-0.70497-4.75605-0.16000.h5\n",
      "\n",
      "Epoch 5: ReduceLROnPlateau reducing learning rate to 3.9999998989515007e-05.\n",
      "15/15 [==============================] - 58s 4s/step - loss: 0.8428 - categorical_accuracy: 0.7050 - val_loss: 4.7561 - val_categorical_accuracy: 0.1600 - lr: 2.0000e-04\n",
      "Epoch 6/30\n",
      "15/15 [==============================] - ETA: 0s - loss: 0.6484 - categorical_accuracy: 0.7787\n",
      "Epoch 6: saving model to model_init_2022-11-2007_38_08.365774/model-6-0.64841-0.77873-4.94097-0.22000.h5\n",
      "15/15 [==============================] - 57s 4s/step - loss: 0.6484 - categorical_accuracy: 0.7787 - val_loss: 4.9410 - val_categorical_accuracy: 0.2200 - lr: 4.0000e-05\n",
      "Epoch 7/30\n",
      "15/15 [==============================] - ETA: 0s - loss: 0.6721 - categorical_accuracy: 0.7444\n",
      "Epoch 7: saving model to model_init_2022-11-2007_38_08.365774/model-7-0.67214-0.74443-5.65275-0.21000.h5\n",
      "15/15 [==============================] - 57s 4s/step - loss: 0.6721 - categorical_accuracy: 0.7444 - val_loss: 5.6527 - val_categorical_accuracy: 0.2100 - lr: 4.0000e-05\n",
      "Epoch 8/30\n",
      "15/15 [==============================] - ETA: 0s - loss: 0.5736 - categorical_accuracy: 0.7667\n",
      "Epoch 8: saving model to model_init_2022-11-2007_38_08.365774/model-8-0.57360-0.76672-6.27567-0.22000.h5\n",
      "15/15 [==============================] - 62s 4s/step - loss: 0.5736 - categorical_accuracy: 0.7667 - val_loss: 6.2757 - val_categorical_accuracy: 0.2200 - lr: 4.0000e-05\n",
      "Epoch 9/30\n",
      "15/15 [==============================] - ETA: 0s - loss: 0.5998 - categorical_accuracy: 0.7959\n",
      "Epoch 9: saving model to model_init_2022-11-2007_38_08.365774/model-9-0.59977-0.79588-6.64599-0.22000.h5\n",
      "\n",
      "Epoch 9: ReduceLROnPlateau reducing learning rate to 7.999999797903002e-06.\n",
      "15/15 [==============================] - 70s 5s/step - loss: 0.5998 - categorical_accuracy: 0.7959 - val_loss: 6.6460 - val_categorical_accuracy: 0.2200 - lr: 4.0000e-05\n",
      "Epoch 10/30\n",
      "15/15 [==============================] - ETA: 0s - loss: 0.5361 - categorical_accuracy: 0.8067\n",
      "Epoch 10: saving model to model_init_2022-11-2007_38_08.365774/model-10-0.53611-0.80667-7.01055-0.21000.h5\n",
      "15/15 [==============================] - 61s 4s/step - loss: 0.5361 - categorical_accuracy: 0.8067 - val_loss: 7.0105 - val_categorical_accuracy: 0.2100 - lr: 8.0000e-06\n",
      "Epoch 11/30\n",
      "15/15 [==============================] - ETA: 0s - loss: 0.5500 - categorical_accuracy: 0.8182\n",
      "Epoch 11: saving model to model_init_2022-11-2007_38_08.365774/model-11-0.55001-0.81818-7.16492-0.23000.h5\n",
      "15/15 [==============================] - 65s 5s/step - loss: 0.5500 - categorical_accuracy: 0.8182 - val_loss: 7.1649 - val_categorical_accuracy: 0.2300 - lr: 8.0000e-06\n",
      "Epoch 12/30\n",
      "15/15 [==============================] - ETA: 0s - loss: 0.5507 - categorical_accuracy: 0.8045\n",
      "Epoch 12: saving model to model_init_2022-11-2007_38_08.365774/model-12-0.55068-0.80446-7.16027-0.25000.h5\n",
      "15/15 [==============================] - 57s 4s/step - loss: 0.5507 - categorical_accuracy: 0.8045 - val_loss: 7.1603 - val_categorical_accuracy: 0.2500 - lr: 8.0000e-06\n",
      "Epoch 13/30\n",
      "15/15 [==============================] - ETA: 0s - loss: 0.5470 - categorical_accuracy: 0.7993\n",
      "Epoch 13: saving model to model_init_2022-11-2007_38_08.365774/model-13-0.54700-0.79931-7.55016-0.21000.h5\n",
      "\n",
      "Epoch 13: ReduceLROnPlateau reducing learning rate to 1.5999999959603884e-06.\n",
      "15/15 [==============================] - 57s 4s/step - loss: 0.5470 - categorical_accuracy: 0.7993 - val_loss: 7.5502 - val_categorical_accuracy: 0.2100 - lr: 8.0000e-06\n",
      "Epoch 14/30\n",
      "15/15 [==============================] - ETA: 0s - loss: 0.5826 - categorical_accuracy: 0.7993\n",
      "Epoch 14: saving model to model_init_2022-11-2007_38_08.365774/model-14-0.58257-0.79931-7.58875-0.17000.h5\n",
      "15/15 [==============================] - 63s 5s/step - loss: 0.5826 - categorical_accuracy: 0.7993 - val_loss: 7.5887 - val_categorical_accuracy: 0.1700 - lr: 1.6000e-06\n",
      "Epoch 15/30\n",
      "15/15 [==============================] - ETA: 0s - loss: 0.4839 - categorical_accuracy: 0.8233\n",
      "Epoch 15: saving model to model_init_2022-11-2007_38_08.365774/model-15-0.48386-0.82333-7.43853-0.22000.h5\n",
      "15/15 [==============================] - 56s 4s/step - loss: 0.4839 - categorical_accuracy: 0.8233 - val_loss: 7.4385 - val_categorical_accuracy: 0.2200 - lr: 1.6000e-06\n",
      "Epoch 16/30\n",
      "15/15 [==============================] - ETA: 0s - loss: 0.5269 - categorical_accuracy: 0.8027\n",
      "Epoch 16: saving model to model_init_2022-11-2007_38_08.365774/model-16-0.52693-0.80274-7.29637-0.22000.h5\n",
      "15/15 [==============================] - 57s 4s/step - loss: 0.5269 - categorical_accuracy: 0.8027 - val_loss: 7.2964 - val_categorical_accuracy: 0.2200 - lr: 1.6000e-06\n",
      "Epoch 17/30\n",
      "15/15 [==============================] - ETA: 0s - loss: 0.5024 - categorical_accuracy: 0.8319\n",
      "Epoch 17: saving model to model_init_2022-11-2007_38_08.365774/model-17-0.50238-0.83190-7.03817-0.24000.h5\n",
      "\n",
      "Epoch 17: ReduceLROnPlateau reducing learning rate to 3.200000037395512e-07.\n",
      "15/15 [==============================] - 58s 4s/step - loss: 0.5024 - categorical_accuracy: 0.8319 - val_loss: 7.0382 - val_categorical_accuracy: 0.2400 - lr: 1.6000e-06\n",
      "Epoch 18/30\n",
      "15/15 [==============================] - ETA: 0s - loss: 0.5554 - categorical_accuracy: 0.7883\n",
      "Epoch 18: saving model to model_init_2022-11-2007_38_08.365774/model-18-0.55543-0.78833-6.53782-0.22000.h5\n",
      "15/15 [==============================] - 56s 4s/step - loss: 0.5554 - categorical_accuracy: 0.7883 - val_loss: 6.5378 - val_categorical_accuracy: 0.2200 - lr: 3.2000e-07\n",
      "Epoch 19/30\n",
      "15/15 [==============================] - ETA: 0s - loss: 0.5217 - categorical_accuracy: 0.8096\n",
      "Epoch 19: saving model to model_init_2022-11-2007_38_08.365774/model-19-0.52174-0.80961-6.40680-0.22000.h5\n",
      "15/15 [==============================] - 59s 4s/step - loss: 0.5217 - categorical_accuracy: 0.8096 - val_loss: 6.4068 - val_categorical_accuracy: 0.2200 - lr: 3.2000e-07\n",
      "Epoch 20/30\n",
      "15/15 [==============================] - ETA: 0s - loss: 0.5371 - categorical_accuracy: 0.7942\n",
      "Epoch 20: saving model to model_init_2022-11-2007_38_08.365774/model-20-0.53713-0.79417-5.63468-0.26000.h5\n",
      "15/15 [==============================] - 58s 4s/step - loss: 0.5371 - categorical_accuracy: 0.7942 - val_loss: 5.6347 - val_categorical_accuracy: 0.2600 - lr: 3.2000e-07\n",
      "Epoch 21/30\n",
      "15/15 [==============================] - ETA: 0s - loss: 0.5561 - categorical_accuracy: 0.7959\n",
      "Epoch 21: saving model to model_init_2022-11-2007_38_08.365774/model-21-0.55610-0.79588-5.68652-0.21000.h5\n",
      "\n",
      "Epoch 21: ReduceLROnPlateau reducing learning rate to 6.399999961104187e-08.\n",
      "15/15 [==============================] - 65s 5s/step - loss: 0.5561 - categorical_accuracy: 0.7959 - val_loss: 5.6865 - val_categorical_accuracy: 0.2100 - lr: 3.2000e-07\n",
      "Epoch 22/30\n",
      "15/15 [==============================] - ETA: 0s - loss: 0.5544 - categorical_accuracy: 0.8045\n",
      "Epoch 22: saving model to model_init_2022-11-2007_38_08.365774/model-22-0.55444-0.80446-5.15536-0.24000.h5\n",
      "15/15 [==============================] - 57s 4s/step - loss: 0.5544 - categorical_accuracy: 0.8045 - val_loss: 5.1554 - val_categorical_accuracy: 0.2400 - lr: 6.4000e-08\n",
      "Epoch 23/30\n",
      "15/15 [==============================] - ETA: 0s - loss: 0.5131 - categorical_accuracy: 0.8045\n",
      "Epoch 23: saving model to model_init_2022-11-2007_38_08.365774/model-23-0.51313-0.80446-4.49834-0.26000.h5\n",
      "15/15 [==============================] - 59s 4s/step - loss: 0.5131 - categorical_accuracy: 0.8045 - val_loss: 4.4983 - val_categorical_accuracy: 0.2600 - lr: 6.4000e-08\n",
      "Epoch 24/30\n",
      "15/15 [==============================] - ETA: 0s - loss: 0.5478 - categorical_accuracy: 0.7856\n",
      "Epoch 24: saving model to model_init_2022-11-2007_38_08.365774/model-24-0.54778-0.78559-4.41894-0.28000.h5\n",
      "15/15 [==============================] - 56s 4s/step - loss: 0.5478 - categorical_accuracy: 0.7856 - val_loss: 4.4189 - val_categorical_accuracy: 0.2800 - lr: 6.4000e-08\n",
      "Epoch 25/30\n",
      "15/15 [==============================] - ETA: 0s - loss: 0.5322 - categorical_accuracy: 0.7976\n",
      "Epoch 25: saving model to model_init_2022-11-2007_38_08.365774/model-25-0.53222-0.79760-3.97573-0.26000.h5\n",
      "\n",
      "Epoch 25: ReduceLROnPlateau reducing learning rate to 1.2799999637991278e-08.\n",
      "15/15 [==============================] - 56s 4s/step - loss: 0.5322 - categorical_accuracy: 0.7976 - val_loss: 3.9757 - val_categorical_accuracy: 0.2600 - lr: 6.4000e-08\n",
      "Epoch 26/30\n",
      "15/15 [==============================] - ETA: 0s - loss: 0.5594 - categorical_accuracy: 0.7959\n",
      "Epoch 26: saving model to model_init_2022-11-2007_38_08.365774/model-26-0.55942-0.79588-4.09230-0.19000.h5\n",
      "15/15 [==============================] - 62s 4s/step - loss: 0.5594 - categorical_accuracy: 0.7959 - val_loss: 4.0923 - val_categorical_accuracy: 0.1900 - lr: 1.2800e-08\n",
      "Epoch 27/30\n",
      "15/15 [==============================] - ETA: 0s - loss: 0.5556 - categorical_accuracy: 0.8200\n",
      "Epoch 27: saving model to model_init_2022-11-2007_38_08.365774/model-27-0.55555-0.82000-3.17158-0.31000.h5\n",
      "15/15 [==============================] - 57s 4s/step - loss: 0.5556 - categorical_accuracy: 0.8200 - val_loss: 3.1716 - val_categorical_accuracy: 0.3100 - lr: 1.2800e-08\n",
      "Epoch 28/30\n",
      "15/15 [==============================] - ETA: 0s - loss: 0.5120 - categorical_accuracy: 0.8010\n",
      "Epoch 28: saving model to model_init_2022-11-2007_38_08.365774/model-28-0.51199-0.80103-3.05256-0.29000.h5\n",
      "15/15 [==============================] - 57s 4s/step - loss: 0.5120 - categorical_accuracy: 0.8010 - val_loss: 3.0526 - val_categorical_accuracy: 0.2900 - lr: 1.2800e-08\n",
      "Epoch 29/30\n",
      "15/15 [==============================] - ETA: 0s - loss: 0.5298 - categorical_accuracy: 0.8130\n",
      "Epoch 29: saving model to model_init_2022-11-2007_38_08.365774/model-29-0.52978-0.81304-3.00569-0.20000.h5\n",
      "\n",
      "Epoch 29: ReduceLROnPlateau reducing learning rate to 2.559999856543982e-09.\n",
      "15/15 [==============================] - 57s 4s/step - loss: 0.5298 - categorical_accuracy: 0.8130 - val_loss: 3.0057 - val_categorical_accuracy: 0.2000 - lr: 1.2800e-08\n",
      "Epoch 30/30\n",
      "15/15 [==============================] - ETA: 0s - loss: 0.5509 - categorical_accuracy: 0.8113\n",
      "Epoch 30: saving model to model_init_2022-11-2007_38_08.365774/model-30-0.55095-0.81132-2.71486-0.28000.h5\n",
      "15/15 [==============================] - 64s 5s/step - loss: 0.5509 - categorical_accuracy: 0.8113 - val_loss: 2.7149 - val_categorical_accuracy: 0.2800 - lr: 2.5600e-09\n"
     ]
    }
   ],
   "source": [
    "model2 = model2.fit_generator(train_generate, steps_per_epoch=steps_per_epoch, epochs=num_epochs, verbose=1, \n",
    "                    callbacks=callbacks_list, validation_data=val_generate, \n",
    "                    validation_steps=validation_steps, class_weight=None, workers=1, initial_epoch=0)\n"
   ]
  },
  {
   "cell_type": "code",
   "execution_count": 71,
   "metadata": {
    "colab": {
     "base_uri": "https://localhost:8080/",
     "height": 265
    },
    "id": "Cb-VYuvyQGNx",
    "outputId": "9537b7a5-3aeb-4cb9-af0c-7b9d9f45112d"
   },
   "outputs": [
    {
     "data": {
      "image/png": "[encoded data removed]",
      "text/plain": [
       "<Figure size 1080x288 with 2 Axes>"
      ]
     },
     "metadata": {
      "needs_background": "light"
     },
     "output_type": "display_data"
    }
   ],
   "source": [
    "plot(model2)"
   ]
  },
  {
   "cell_type": "markdown",
   "metadata": {
    "id": "GLGpqugHZZ6M"
   },
   "source": [
    "## Transfer Learning\n"
   ]
  },
  {
   "cell_type": "code",
   "execution_count": 23,
   "metadata": {
    "id": "hIiLF6VNfGoW"
   },
   "outputs": [],
   "source": [
    "from keras.models import Sequential, Model\n",
    "from keras.layers import Dense, GRU, Flatten, TimeDistributed, Flatten, BatchNormalization, Activation, Dropout\n",
    "from keras.layers.convolutional import Conv2D, MaxPooling2D, AveragePooling2D\n",
    "from keras.callbacks import ModelCheckpoint, ReduceLROnPlateau\n",
    "from keras import optimizers\n",
    "from keras.regularizers import l2\n",
    "from keras.layers import LSTM, GRU, Bidirectional, SimpleRNN, RNN\n",
    "\n",
    "model = Sequential()\n",
    "\n",
    "model.add(TimeDistributed(Conv2D(16, (2, 2), padding='same'),\n",
    "                 input_shape=(10,50,50,3)))\n",
    "model.add(Activation('relu'))\n",
    "model.add(BatchNormalization())\n",
    "model.add(TimeDistributed(Conv2D(16, (2, 2))))\n",
    "model.add(Activation('relu'))\n",
    "model.add(BatchNormalization())\n",
    "model.add(TimeDistributed(MaxPooling2D(pool_size=(2, 2))))\n",
    "model.add(Dropout(0.30))\n",
    "\n",
    "model.add(TimeDistributed(Conv2D(32, (2, 2), padding='same')))\n",
    "model.add(Activation('relu'))\n",
    "model.add(BatchNormalization())\n",
    "model.add(TimeDistributed(Conv2D(32, (2, 2), padding='same')))\n",
    "model.add(Activation('relu'))\n",
    "model.add(BatchNormalization())\n",
    "model.add(TimeDistributed(MaxPooling2D(pool_size=(2, 2))))\n",
    "model.add(Dropout(0.30))\n",
    "\n",
    "model.add(TimeDistributed(Flatten()))\n",
    "model.add(LSTM(256, return_sequences=False, dropout=0.5))\n",
    "model.add(Dense(64,kernel_regularizer=l2(0.02)))\n",
    "model.add(Activation('relu'))\n",
    "model.add(Dropout(0.30))\n",
    "model.add(Dense(5))\n",
    "model.add(Activation('softmax'))"
   ]
  },
  {
   "cell_type": "code",
   "execution_count": 24,
   "metadata": {
    "colab": {
     "base_uri": "https://localhost:8080/"
    },
    "id": "6Q0T6Q7RfIOr",
    "outputId": "5824cfea-fe39-4c49-bca9-68104c436c9c"
   },
   "outputs": [
    {
     "name": "stdout",
     "output_type": "stream",
     "text": [
      "Model: \"sequential_1\"\n",
      "_________________________________________________________________\n",
      " Layer (type)                Output Shape              Param #   \n",
      "=================================================================\n",
      " time_distributed_7 (TimeDis  (None, 10, 50, 50, 16)   208       \n",
      " tributed)                                                       \n",
      "                                                                 \n",
      " activation_6 (Activation)   (None, 10, 50, 50, 16)    0         \n",
      "                                                                 \n",
      " batch_normalization_4 (Batc  (None, 10, 50, 50, 16)   64        \n",
      " hNormalization)                                                 \n",
      "                                                                 \n",
      " time_distributed_8 (TimeDis  (None, 10, 49, 49, 16)   1040      \n",
      " tributed)                                                       \n",
      "                                                                 \n",
      " activation_7 (Activation)   (None, 10, 49, 49, 16)    0         \n",
      "                                                                 \n",
      " batch_normalization_5 (Batc  (None, 10, 49, 49, 16)   64        \n",
      " hNormalization)                                                 \n",
      "                                                                 \n",
      " time_distributed_9 (TimeDis  (None, 10, 24, 24, 16)   0         \n",
      " tributed)                                                       \n",
      "                                                                 \n",
      " dropout_3 (Dropout)         (None, 10, 24, 24, 16)    0         \n",
      "                                                                 \n",
      " time_distributed_10 (TimeDi  (None, 10, 24, 24, 32)   2080      \n",
      " stributed)                                                      \n",
      "                                                                 \n",
      " activation_8 (Activation)   (None, 10, 24, 24, 32)    0         \n",
      "                                                                 \n",
      " batch_normalization_6 (Batc  (None, 10, 24, 24, 32)   128       \n",
      " hNormalization)                                                 \n",
      "                                                                 \n",
      " time_distributed_11 (TimeDi  (None, 10, 24, 24, 32)   4128      \n",
      " stributed)                                                      \n",
      "                                                                 \n",
      " activation_9 (Activation)   (None, 10, 24, 24, 32)    0         \n",
      "                                                                 \n",
      " batch_normalization_7 (Batc  (None, 10, 24, 24, 32)   128       \n",
      " hNormalization)                                                 \n",
      "                                                                 \n",
      " time_distributed_12 (TimeDi  (None, 10, 12, 12, 32)   0         \n",
      " stributed)                                                      \n",
      "                                                                 \n",
      " dropout_4 (Dropout)         (None, 10, 12, 12, 32)    0         \n",
      "                                                                 \n",
      " time_distributed_13 (TimeDi  (None, 10, 4608)         0         \n",
      " stributed)                                                      \n",
      "                                                                 \n",
      " lstm_1 (LSTM)               (None, 256)               4981760   \n",
      "                                                                 \n",
      " dense_2 (Dense)             (None, 64)                16448     \n",
      "                                                                 \n",
      " activation_10 (Activation)  (None, 64)                0         \n",
      "                                                                 \n",
      " dropout_5 (Dropout)         (None, 64)                0         \n",
      "                                                                 \n",
      " dense_3 (Dense)             (None, 5)                 325       \n",
      "                                                                 \n",
      " activation_11 (Activation)  (None, 5)                 0         \n",
      "                                                                 \n",
      "=================================================================\n",
      "Total params: 5,006,373\n",
      "Trainable params: 5,006,181\n",
      "Non-trainable params: 192\n",
      "_________________________________________________________________\n"
     ]
    }
   ],
   "source": [
    "# compile it\n",
    "model.compile(loss='categorical_crossentropy', optimizer='sgd', metrics=['categorical_accuracy'])\n",
    "\n",
    "# summary of model\n",
    "model.summary()"
   ]
  },
  {
   "cell_type": "code",
   "execution_count": 25,
   "metadata": {
    "id": "3vRknp2mfmiT"
   },
   "outputs": [],
   "source": [
    "train_generator = generator(train_path, train_doc, batch_size)\n",
    "val_generator = generator(val_path, val_doc, batch_size)"
   ]
  },
  {
   "cell_type": "code",
   "execution_count": 26,
   "metadata": {
    "id": "mDq8DeycfozE"
   },
   "outputs": [],
   "source": [
    "e = 'model_init' + '_' + str(curr_dt_time).replace(' ','').replace(':','_') + '/'\n",
    "model_name = 'Gesture_Rec_FInal' + '_' + str(curr_dt_time).replace(' ','').replace(':','_') + '/'\n",
    "    \n",
    "if not os.path.exists(model_name):\n",
    "    os.mkdir(model_name)\n",
    "        \n",
    "filepath = model_name + 'model-{epoch:05d}-{loss:.5f}-{categorical_accuracy:.5f}-{val_loss:.5f}-{val_categorical_accuracy:.5f}.h5'\n",
    "\n",
    "checkpoint = ModelCheckpoint(filepath, monitor='val_loss', verbose=1, save_best_only=False,\n",
    "                             save_weights_only=False, mode='auto', save_freq=1)\n",
    "\n",
    "#LR code\n",
    "LR = ReduceLROnPlateau(monitor='val_loss', factor=0.2, patience=5, min_lr=0.02)\n",
    "callbacks_list = [checkpoint]"
   ]
  },
  {
   "cell_type": "code",
   "execution_count": 29,
   "metadata": {
    "id": "RSfKVqH8fwsp"
   },
   "outputs": [],
   "source": [
    "if (num_train_sequences%batch_size) == 0:\n",
    "    steps_per_epoch = int(num_train_sequences/batch_size)\n",
    "else:\n",
    "    steps_per_epoch = (num_train_sequences//batch_size) + 1\n",
    "\n",
    "if (num_val_sequences%batch_size) == 0:\n",
    "    validation_steps = int(num_val_sequences/batch_size)\n",
    "else:\n",
    "    validation_steps = (num_val_sequences//batch_size) + 1"
   ]
  },
  {
   "cell_type": "code",
   "execution_count": 35,
   "metadata": {
    "colab": {
     "base_uri": "https://localhost:8080/"
    },
    "id": "wkQW4592UXsU",
    "outputId": "eeb31f88-4546-4f54-fa14-817bc50c864a"
   },
   "outputs": [
    {
     "name": "stdout",
     "output_type": "stream",
     "text": [
      "Source path =  /content/gdrive/My Drive/Colab Notebooks/GestureRecognition/Project/Project_data/train ; batch size = 20\n",
      "Epoch 1/20\n",
      "34/34 [==============================] - ETA: 0s - loss: 1.5384 - categorical_accuracy: 0.2836  Source path =  /content/gdrive/My Drive/Colab Notebooks/GestureRecognition/Project/Project_data/val ; batch size = 20\n",
      "\n",
      "Epoch 1: saving model to model_init_2022-05-1519_52_59.500549/model-00001-1.53836-0.28356-1.51678-0.29000.h5\n",
      "34/34 [==============================] - 5988s 181s/step - loss: 1.5384 - categorical_accuracy: 0.2836 - val_loss: 1.5168 - val_categorical_accuracy: 0.2900 - lr: 0.0010\n",
      "Epoch 2/20\n",
      "34/34 [==============================] - ETA: 0s - loss: 1.4082 - categorical_accuracy: 0.3680\n",
      "Epoch 2: saving model to model_init_2022-05-1519_52_59.500549/model-00002-1.40825-0.36802-1.51568-0.25000.h5\n",
      "34/34 [==============================] - 49s 1s/step - loss: 1.4082 - categorical_accuracy: 0.3680 - val_loss: 1.5157 - val_categorical_accuracy: 0.2500 - lr: 0.0010\n",
      "Epoch 3/20\n",
      "34/34 [==============================] - ETA: 0s - loss: 1.3211 - categorical_accuracy: 0.4284\n",
      "Epoch 3: saving model to model_init_2022-05-1519_52_59.500549/model-00003-1.32108-0.42836-1.34480-0.45000.h5\n",
      "34/34 [==============================] - 49s 1s/step - loss: 1.3211 - categorical_accuracy: 0.4284 - val_loss: 1.3448 - val_categorical_accuracy: 0.4500 - lr: 0.0010\n",
      "Epoch 4/20\n",
      "34/34 [==============================] - ETA: 0s - loss: 1.2406 - categorical_accuracy: 0.4736\n",
      "Epoch 4: saving model to model_init_2022-05-1519_52_59.500549/model-00004-1.24059-0.47360-1.37701-0.43000.h5\n",
      "34/34 [==============================] - 49s 1s/step - loss: 1.2406 - categorical_accuracy: 0.4736 - val_loss: 1.3770 - val_categorical_accuracy: 0.4300 - lr: 0.0010\n",
      "Epoch 5/20\n",
      "34/34 [==============================] - ETA: 0s - loss: 1.2030 - categorical_accuracy: 0.5158\n",
      "Epoch 5: saving model to model_init_2022-05-1519_52_59.500549/model-00005-1.20303-0.51584-1.24925-0.53000.h5\n",
      "34/34 [==============================] - 49s 1s/step - loss: 1.2030 - categorical_accuracy: 0.5158 - val_loss: 1.2492 - val_categorical_accuracy: 0.5300 - lr: 0.0010\n",
      "Epoch 6/20\n",
      "34/34 [==============================] - ETA: 0s - loss: 1.1984 - categorical_accuracy: 0.5128\n",
      "Epoch 6: saving model to model_init_2022-05-1519_52_59.500549/model-00006-1.19845-0.51282-1.28416-0.43000.h5\n",
      "34/34 [==============================] - 49s 1s/step - loss: 1.1984 - categorical_accuracy: 0.5128 - val_loss: 1.2842 - val_categorical_accuracy: 0.4300 - lr: 0.0010\n",
      "Epoch 7/20\n",
      "34/34 [==============================] - ETA: 0s - loss: 1.1212 - categorical_accuracy: 0.5686\n",
      "Epoch 7: saving model to model_init_2022-05-1519_52_59.500549/model-00007-1.12121-0.56863-1.35349-0.42000.h5\n",
      "34/34 [==============================] - 49s 1s/step - loss: 1.1212 - categorical_accuracy: 0.5686 - val_loss: 1.3535 - val_categorical_accuracy: 0.4200 - lr: 0.0010\n",
      "Epoch 8/20\n",
      "34/34 [==============================] - ETA: 0s - loss: 1.0321 - categorical_accuracy: 0.5958\n",
      "Epoch 8: saving model to model_init_2022-05-1519_52_59.500549/model-00008-1.03212-0.59578-1.37966-0.46000.h5\n",
      "34/34 [==============================] - 49s 1s/step - loss: 1.0321 - categorical_accuracy: 0.5958 - val_loss: 1.3797 - val_categorical_accuracy: 0.4600 - lr: 0.0010\n",
      "Epoch 9/20\n",
      "34/34 [==============================] - ETA: 0s - loss: 1.0052 - categorical_accuracy: 0.6169\n",
      "Epoch 9: saving model to model_init_2022-05-1519_52_59.500549/model-00009-1.00520-0.61689-1.21483-0.51000.h5\n",
      "34/34 [==============================] - 48s 1s/step - loss: 1.0052 - categorical_accuracy: 0.6169 - val_loss: 1.2148 - val_categorical_accuracy: 0.5100 - lr: 0.0010\n",
      "Epoch 10/20\n",
      "34/34 [==============================] - ETA: 0s - loss: 0.9432 - categorical_accuracy: 0.6410\n",
      "Epoch 10: saving model to model_init_2022-05-1519_52_59.500549/model-00010-0.94315-0.64103-1.27197-0.50000.h5\n",
      "34/34 [==============================] - 49s 1s/step - loss: 0.9432 - categorical_accuracy: 0.6410 - val_loss: 1.2720 - val_categorical_accuracy: 0.5000 - lr: 0.0010\n",
      "Epoch 11/20\n",
      "34/34 [==============================] - ETA: 0s - loss: 0.9293 - categorical_accuracy: 0.6516\n",
      "Epoch 11: saving model to model_init_2022-05-1519_52_59.500549/model-00011-0.92931-0.65158-1.09770-0.53000.h5\n",
      "34/34 [==============================] - 49s 1s/step - loss: 0.9293 - categorical_accuracy: 0.6516 - val_loss: 1.0977 - val_categorical_accuracy: 0.5300 - lr: 0.0010\n",
      "Epoch 12/20\n",
      "34/34 [==============================] - ETA: 0s - loss: 0.8910 - categorical_accuracy: 0.6606\n",
      "Epoch 12: saving model to model_init_2022-05-1519_52_59.500549/model-00012-0.89097-0.66063-1.06110-0.55000.h5\n",
      "34/34 [==============================] - 49s 1s/step - loss: 0.8910 - categorical_accuracy: 0.6606 - val_loss: 1.0611 - val_categorical_accuracy: 0.5500 - lr: 0.0010\n",
      "Epoch 13/20\n",
      "34/34 [==============================] - ETA: 0s - loss: 0.7850 - categorical_accuracy: 0.7149\n",
      "Epoch 13: saving model to model_init_2022-05-1519_52_59.500549/model-00013-0.78502-0.71493-1.14009-0.44000.h5\n",
      "34/34 [==============================] - 49s 1s/step - loss: 0.7850 - categorical_accuracy: 0.7149 - val_loss: 1.1401 - val_categorical_accuracy: 0.4400 - lr: 0.0010\n",
      "Epoch 14/20\n",
      "34/34 [==============================] - ETA: 0s - loss: 0.7753 - categorical_accuracy: 0.7119\n",
      "Epoch 14: saving model to model_init_2022-05-1519_52_59.500549/model-00014-0.77534-0.71192-1.26241-0.50000.h5\n",
      "34/34 [==============================] - 49s 1s/step - loss: 0.7753 - categorical_accuracy: 0.7119 - val_loss: 1.2624 - val_categorical_accuracy: 0.5000 - lr: 0.0010\n",
      "Epoch 15/20\n",
      "34/34 [==============================] - ETA: 0s - loss: 0.7184 - categorical_accuracy: 0.7557\n",
      "Epoch 15: saving model to model_init_2022-05-1519_52_59.500549/model-00015-0.71838-0.75566-1.14848-0.53000.h5\n",
      "34/34 [==============================] - 49s 1s/step - loss: 0.7184 - categorical_accuracy: 0.7557 - val_loss: 1.1485 - val_categorical_accuracy: 0.5300 - lr: 0.0010\n",
      "Epoch 16/20\n",
      "34/34 [==============================] - ETA: 0s - loss: 0.7097 - categorical_accuracy: 0.7406\n",
      "Epoch 16: saving model to model_init_2022-05-1519_52_59.500549/model-00016-0.70971-0.74057-1.18248-0.58000.h5\n",
      "\n",
      "Epoch 16: ReduceLROnPlateau reducing learning rate to 0.00020000000949949026.\n",
      "34/34 [==============================] - 49s 1s/step - loss: 0.7097 - categorical_accuracy: 0.7406 - val_loss: 1.1825 - val_categorical_accuracy: 0.5800 - lr: 0.0010\n",
      "Epoch 17/20\n",
      "34/34 [==============================] - ETA: 0s - loss: 0.6163 - categorical_accuracy: 0.7677\n",
      "Epoch 17: saving model to model_init_2022-05-1519_52_59.500549/model-00017-0.61633-0.76772-1.16830-0.56000.h5\n",
      "34/34 [==============================] - 48s 1s/step - loss: 0.6163 - categorical_accuracy: 0.7677 - val_loss: 1.1683 - val_categorical_accuracy: 0.5600 - lr: 2.0000e-04\n",
      "Epoch 18/20\n",
      "34/34 [==============================] - ETA: 0s - loss: 0.5614 - categorical_accuracy: 0.7934\n",
      "Epoch 18: saving model to model_init_2022-05-1519_52_59.500549/model-00018-0.56139-0.79336-1.24139-0.48000.h5\n",
      "34/34 [==============================] - 48s 1s/step - loss: 0.5614 - categorical_accuracy: 0.7934 - val_loss: 1.2414 - val_categorical_accuracy: 0.4800 - lr: 2.0000e-04\n",
      "Epoch 19/20\n",
      "34/34 [==============================] - ETA: 0s - loss: 0.5269 - categorical_accuracy: 0.8265\n",
      "Epoch 19: saving model to model_init_2022-05-1519_52_59.500549/model-00019-0.52694-0.82655-1.20402-0.58000.h5\n",
      "34/34 [==============================] - 49s 1s/step - loss: 0.5269 - categorical_accuracy: 0.8265 - val_loss: 1.2040 - val_categorical_accuracy: 0.5800 - lr: 2.0000e-04\n",
      "Epoch 20/20\n",
      "34/34 [==============================] - ETA: 0s - loss: 0.5082 - categorical_accuracy: 0.8115\n",
      "Epoch 20: saving model to model_init_2022-05-1519_52_59.500549/model-00020-0.50821-0.81146-1.07052-0.61000.h5\n",
      "\n",
      "Epoch 20: ReduceLROnPlateau reducing learning rate to 4.0000001899898055e-05.\n",
      "34/34 [==============================] - 49s 1s/step - loss: 0.5082 - categorical_accuracy: 0.8115 - val_loss: 1.0705 - val_categorical_accuracy: 0.6100 - lr: 2.0000e-04\n"
     ]
    }
   ],
   "source": [
    "tf= model.fit_generator(train_generator, steps_per_epoch=steps_per_epoch, epochs=num_epochs, verbose=1, \n",
    "                    callbacks=callbacks_list, validation_data=val_generator, \n",
    "                    validation_steps=validation_steps, class_weight=None, workers=1, initial_epoch=0)"
   ]
  },
  {
   "cell_type": "code",
   "execution_count": 39,
   "metadata": {
    "colab": {
     "base_uri": "https://localhost:8080/",
     "height": 265
    },
    "id": "BCsGE6js8jXx",
    "outputId": "5ef4d7a8-a39c-43f1-9bd4-fee98013b8b7"
   },
   "outputs": [
    {
     "data": {
      "image/png": "[encoded data removed]",
      "text/plain": [
       "<Figure size 1080x288 with 2 Axes>"
      ]
     },
     "metadata": {
      "needs_background": "light"
     },
     "output_type": "display_data"
    }
   ],
   "source": [
    "plot(tf)"
   ]
  },
  {
   "cell_type": "code",
   "execution_count": null,
   "metadata": {
    "id": "1BA80rxRf22g"
   },
   "outputs": [],
   "source": []
  }
 ],
 "metadata": {
  "accelerator": "GPU",
  "colab": {
   "provenance": []
  },
  "gpuClass": "standard",
  "kernelspec": {
   "display_name": "Python 3 (ipykernel)",
   "language": "python",
   "name": "python3"
  },
  "language_info": {
   "codemirror_mode": {
    "name": "ipython",
    "version": 3
   },
   "file_extension": ".py",
   "mimetype": "text/x-python",
   "name": "python",
   "nbconvert_exporter": "python",
   "pygments_lexer": "ipython3",
   "version": "3.9.13"
  }
 },
 "nbformat": 4,
 "nbformat_minor": 4
}
